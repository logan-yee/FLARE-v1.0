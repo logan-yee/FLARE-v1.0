{
 "cells": [
  {
   "cell_type": "code",
   "execution_count": 39,
   "id": "b273949a",
   "metadata": {},
   "outputs": [],
   "source": [
    "import numpy as np\n",
    "import pandas as pd"
   ]
  },
  {
   "cell_type": "code",
   "execution_count": 13,
   "id": "11fce6d7",
   "metadata": {},
   "outputs": [],
   "source": [
    "source = pd.read_excel(\"12-31-2023_Rocket_Simulated_Data.xlsx\")"
   ]
  },
  {
   "cell_type": "code",
   "execution_count": 21,
   "id": "0cb6b01e",
   "metadata": {},
   "outputs": [],
   "source": [
    "# Stops program once below lower invincibility frame\n",
    "class StopExecution(Exception):\n",
    "    def _render_traceback(self):\n",
    "        return []"
   ]
  },
  {
   "cell_type": "code",
   "execution_count": 63,
   "id": "f93e84e1",
   "metadata": {
    "scrolled": true
   },
   "outputs": [
    {
     "name": "stdout",
     "output_type": "stream",
     "text": [
      "Enter upper invincibility altitude: 4000\n",
      "Enter lower invincibility altitude: 1000\n",
      "Enter poll interval in seconds: 5\n"
     ]
    },
    {
     "ename": "StopExecution",
     "evalue": "",
     "output_type": "error",
     "traceback": [
      "\u001b[1;31m---------------------------------------------------------------------------\u001b[0m",
      "\u001b[1;31mStopExecution\u001b[0m                             Traceback (most recent call last)",
      "\u001b[1;32m~\\AppData\\Local\\Temp/ipykernel_5144/160991948.py\u001b[0m in \u001b[0;36m<module>\u001b[1;34m\u001b[0m\n\u001b[0;32m     34\u001b[0m                 \u001b[0mtarget\u001b[0m\u001b[1;33m.\u001b[0m\u001b[0mwrite\u001b[0m\u001b[1;33m(\u001b[0m\u001b[1;34m\"ENTERED LOWER INVINCIBILITY ALTITUDE-END\\n\"\u001b[0m\u001b[1;33m)\u001b[0m\u001b[1;33m\u001b[0m\u001b[1;33m\u001b[0m\u001b[0m\n\u001b[0;32m     35\u001b[0m                 \u001b[0mtarget\u001b[0m\u001b[1;33m.\u001b[0m\u001b[0mclose\u001b[0m\u001b[1;33m(\u001b[0m\u001b[1;33m)\u001b[0m\u001b[1;33m\u001b[0m\u001b[1;33m\u001b[0m\u001b[0m\n\u001b[1;32m---> 36\u001b[1;33m                 \u001b[1;32mraise\u001b[0m \u001b[0mStopExecution\u001b[0m\u001b[1;33m\u001b[0m\u001b[1;33m\u001b[0m\u001b[0m\n\u001b[0m\u001b[0;32m     37\u001b[0m             \u001b[1;32melif\u001b[0m \u001b[0min_i_frame_upper\u001b[0m \u001b[1;33m==\u001b[0m \u001b[1;32mFalse\u001b[0m\u001b[1;33m:\u001b[0m\u001b[1;33m\u001b[0m\u001b[1;33m\u001b[0m\u001b[0m\n\u001b[0;32m     38\u001b[0m                 \u001b[0mtarget\u001b[0m\u001b[1;33m.\u001b[0m\u001b[0mwrite\u001b[0m\u001b[1;33m(\u001b[0m\u001b[1;34mf\"{row['# Time (s)']}\\t{row['Altitude (m)']}\\t{row['Position East of launch (m)']}\\t{row['Position North of launch (m)']}\\t{row['Latitude (°)']}\\t{row['Longitude (°)']}\\n\"\u001b[0m\u001b[1;33m)\u001b[0m\u001b[1;33m\u001b[0m\u001b[1;33m\u001b[0m\u001b[0m\n",
      "\u001b[1;31mStopExecution\u001b[0m: "
     ]
    }
   ],
   "source": [
    "i_frame_upper = float(input(\"Enter upper invincibility altitude: \"))\n",
    "i_frame_lower = float(input(\"Enter lower invincibility altitude: \"))\n",
    "poll_interval = float(input(\"Enter poll interval in seconds: \"))\n",
    "in_i_frame_upper = False\n",
    "past_upper = False\n",
    "prev_poll_time = 0\n",
    "\n",
    "with open(\"output.txt\", \"w\") as target:\n",
    "    for intervals in range(1, 99999999999999999):\n",
    "        # Testing: creates subsets of data to simulate polling intervals\n",
    "        source_sim = source.dropna()\n",
    "        source_sim = source_sim[source_sim['# Time (s)'] <= (poll_interval * intervals)]\n",
    "        # End of testing\n",
    "        \n",
    "        # START OF SCRIPT\n",
    "        df = source_sim.dropna()\n",
    "        # For testing purposes- log poll time\n",
    "        target.write(f\"POLL AT {poll_interval * (intervals-1)} SECONDS\\n\")\n",
    "        \n",
    "        \n",
    "        for index, row in df[df['# Time (s)'] > prev_poll_time].iterrows():\n",
    "            # Ship enters upper invincibility altitude, stop recording\n",
    "            if row['Altitude (m)'] >= i_frame_upper and past_upper == False and in_i_frame_upper == False:\n",
    "                target.write(\"ENTERED UPPER INVINCIBILITY ALTITUDE-PAUSING RECORDING\\n\")\n",
    "                in_i_frame_upper = True\n",
    "            # Ship exits upper invincibility altitude, resume recording\n",
    "            elif in_i_frame_upper == True and row['Altitude (m)'] < i_frame_upper:\n",
    "                target.write(\"EXITED UPPER INVINCIBILITY ALTITUDE-RESUMING RECORDING\\n\")\n",
    "                in_i_frame_upper = False\n",
    "                past_upper = True\n",
    "                target.write(f\"{row['# Time (s)']}\\t{row['Altitude (m)']}\\t{row['Position East of launch (m)']}\\t{row['Position North of launch (m)']}\\t{row['Latitude (°)']}\\t{row['Longitude (°)']}\\n\")\n",
    "            # If ship enters lower invincibility altitude after having reached upper invincibility altitude, close file and stop recording\n",
    "            elif past_upper == True and row['Altitude (m)'] <= i_frame_lower:\n",
    "                target.write(\"ENTERED LOWER INVINCIBILITY ALTITUDE-END\\n\")\n",
    "                target.close()\n",
    "                raise StopExecution\n",
    "            elif in_i_frame_upper == False:\n",
    "                target.write(f\"{row['# Time (s)']}\\t{row['Altitude (m)']}\\t{row['Position East of launch (m)']}\\t{row['Position North of launch (m)']}\\t{row['Latitude (°)']}\\t{row['Longitude (°)']}\\n\")\n",
    "        \n",
    "        \n",
    "        prev_poll_time = df.iloc[-1]['# Time (s)']\n",
    "        "
   ]
  },
  {
   "cell_type": "code",
   "execution_count": null,
   "id": "5e8c9d69",
   "metadata": {},
   "outputs": [],
   "source": []
  }
 ],
 "metadata": {
  "kernelspec": {
   "display_name": "Python 3 (ipykernel)",
   "language": "python",
   "name": "python3"
  },
  "language_info": {
   "codemirror_mode": {
    "name": "ipython",
    "version": 3
   },
   "file_extension": ".py",
   "mimetype": "text/x-python",
   "name": "python",
   "nbconvert_exporter": "python",
   "pygments_lexer": "ipython3",
   "version": "3.9.7"
  }
 },
 "nbformat": 4,
 "nbformat_minor": 5
}
