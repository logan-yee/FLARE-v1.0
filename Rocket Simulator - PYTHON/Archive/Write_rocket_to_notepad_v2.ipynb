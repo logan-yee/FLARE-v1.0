{
 "cells": [
  {
   "cell_type": "code",
   "execution_count": 6,
   "id": "2a37fd29",
   "metadata": {},
   "outputs": [],
   "source": [
    "import numpy as np\n",
    "import pandas as pd\n",
    "import time"
   ]
  },
  {
   "cell_type": "code",
   "execution_count": 8,
   "id": "4cc996b6",
   "metadata": {},
   "outputs": [],
   "source": [
    "source = pd.read_excel(\"12-31-2023 Rocket Simulated Data.xlsx\")"
   ]
  },
  {
   "cell_type": "code",
   "execution_count": 9,
   "id": "da0c98ad",
   "metadata": {},
   "outputs": [],
   "source": [
    "# Stops program once below lower invincibility frame\n",
    "class StopExecution(Exception):\n",
    "    def _render_traceback(self):\n",
    "        return []"
   ]
  },
  {
   "cell_type": "code",
   "execution_count": 10,
   "id": "575eb4a1",
   "metadata": {
    "scrolled": true
   },
   "outputs": [
    {
     "name": "stdin",
     "output_type": "stream",
     "text": [
      "Enter upper invincibility altitude:  2000\n",
      "Enter lower invincibility altitude:  800\n",
      "Enter poll interval in seconds:  1\n"
     ]
    },
    {
     "ename": "StopExecution",
     "evalue": "",
     "output_type": "error",
     "traceback": [
      "\u001b[1;31m---------------------------------------------------------------------------\u001b[0m",
      "\u001b[1;31mStopExecution\u001b[0m                             Traceback (most recent call last)",
      "Cell \u001b[1;32mIn[10], line 37\u001b[0m\n\u001b[0;32m     35\u001b[0m     target\u001b[38;5;241m.\u001b[39mwrite(\u001b[38;5;124m\"\u001b[39m\u001b[38;5;124mENTERED LOWER INVINCIBILITY ALTITUDE-END\u001b[39m\u001b[38;5;130;01m\\n\u001b[39;00m\u001b[38;5;124m\"\u001b[39m)\n\u001b[0;32m     36\u001b[0m     target\u001b[38;5;241m.\u001b[39mclose()\n\u001b[1;32m---> 37\u001b[0m     \u001b[38;5;28;01mraise\u001b[39;00m StopExecution\n\u001b[0;32m     38\u001b[0m \u001b[38;5;28;01melif\u001b[39;00m in_i_frame_upper \u001b[38;5;241m==\u001b[39m \u001b[38;5;28;01mFalse\u001b[39;00m:\n\u001b[0;32m     39\u001b[0m     target\u001b[38;5;241m.\u001b[39mwrite(\u001b[38;5;124mf\u001b[39m\u001b[38;5;124m\"\u001b[39m\u001b[38;5;132;01m{\u001b[39;00mrow[\u001b[38;5;124m'\u001b[39m\u001b[38;5;124m# Time (s)\u001b[39m\u001b[38;5;124m'\u001b[39m]\u001b[38;5;132;01m}\u001b[39;00m\u001b[38;5;130;01m\\t\u001b[39;00m\u001b[38;5;132;01m{\u001b[39;00mrow[\u001b[38;5;124m'\u001b[39m\u001b[38;5;124mAltitude (m)\u001b[39m\u001b[38;5;124m'\u001b[39m]\u001b[38;5;132;01m}\u001b[39;00m\u001b[38;5;130;01m\\t\u001b[39;00m\u001b[38;5;132;01m{\u001b[39;00mrow[\u001b[38;5;124m'\u001b[39m\u001b[38;5;124mPosition East of launch (m)\u001b[39m\u001b[38;5;124m'\u001b[39m]\u001b[38;5;132;01m}\u001b[39;00m\u001b[38;5;130;01m\\t\u001b[39;00m\u001b[38;5;132;01m{\u001b[39;00mrow[\u001b[38;5;124m'\u001b[39m\u001b[38;5;124mPosition North of launch (m)\u001b[39m\u001b[38;5;124m'\u001b[39m]\u001b[38;5;132;01m}\u001b[39;00m\u001b[38;5;130;01m\\t\u001b[39;00m\u001b[38;5;132;01m{\u001b[39;00mrow[\u001b[38;5;124m'\u001b[39m\u001b[38;5;124mLatitude (°)\u001b[39m\u001b[38;5;124m'\u001b[39m]\u001b[38;5;132;01m}\u001b[39;00m\u001b[38;5;130;01m\\t\u001b[39;00m\u001b[38;5;132;01m{\u001b[39;00mrow[\u001b[38;5;124m'\u001b[39m\u001b[38;5;124mLongitude (°)\u001b[39m\u001b[38;5;124m'\u001b[39m]\u001b[38;5;132;01m}\u001b[39;00m\u001b[38;5;130;01m\\n\u001b[39;00m\u001b[38;5;124m\"\u001b[39m)\n",
      "\u001b[1;31mStopExecution\u001b[0m: "
     ]
    }
   ],
   "source": [
    "i_frame_upper = float(input(\"Enter upper invincibility altitude: \"))\n",
    "i_frame_lower = float(input(\"Enter lower invincibility altitude: \"))\n",
    "poll_interval = float(input(\"Enter poll interval in seconds: \"))\n",
    "in_i_frame_upper = False\n",
    "past_upper = False\n",
    "prev_poll_time = 0\n",
    "\n",
    "with open(\"output.txt\", \"w\") as target:\n",
    "    for intervals in range(1, 99999999999999999):\n",
    "        \n",
    "        # Testing: creates subsets of data to simulate polling intervals\n",
    "        source_sim = source.dropna()\n",
    "        source_sim = source_sim[source_sim['# Time (s)'] <= (poll_interval * intervals)]\n",
    "        # End of testing\n",
    "        \n",
    "        # START OF SCRIPT\n",
    "        df = source_sim.dropna()\n",
    "        # For testing purposes- log poll time\n",
    "        target.write(f\"POLL AT {poll_interval * (intervals-1)} SECONDS\\n\")\n",
    "        \n",
    "        \n",
    "        for index, row in df[df['# Time (s)'] > prev_poll_time].iterrows():\n",
    "            # Ship enters upper invincibility altitude, stop recording\n",
    "            if row['Altitude (m)'] >= i_frame_upper and past_upper == False and in_i_frame_upper == False:\n",
    "                target.write(\"ENTERED UPPER INVINCIBILITY ALTITUDE-PAUSING RECORDING\\n\")\n",
    "                in_i_frame_upper = True\n",
    "            # Ship exits upper invincibility altitude, resume recording\n",
    "            elif in_i_frame_upper == True and row['Altitude (m)'] < i_frame_upper:\n",
    "                target.write(\"EXITED UPPER INVINCIBILITY ALTITUDE-RESUMING RECORDING\\n\")\n",
    "                in_i_frame_upper = False\n",
    "                past_upper = True\n",
    "                target.write(f\"{row['# Time (s)']}\\t{row['Altitude (m)']}\\t{row['Position East of launch (m)']}\\t{row['Position North of launch (m)']}\\t{row['Latitude (°)']}\\t{row['Longitude (°)']}\\n\")\n",
    "            # If ship enters lower invincibility altitude after having reached upper invincibility altitude, close file and stop recording\n",
    "            elif past_upper == True and row['Altitude (m)'] <= i_frame_lower:\n",
    "                target.write(\"ENTERED LOWER INVINCIBILITY ALTITUDE-END\\n\")\n",
    "                target.close()\n",
    "                raise StopExecution\n",
    "            elif in_i_frame_upper == False:\n",
    "                target.write(f\"{row['# Time (s)']}\\t{row['Altitude (m)']}\\t{row['Position East of launch (m)']}\\t{row['Position North of launch (m)']}\\t{row['Latitude (°)']}\\t{row['Longitude (°)']}\\n\")\n",
    "        \n",
    "        \n",
    "        prev_poll_time = df.iloc[-1]['# Time (s)']\n",
    "        \n",
    "        # Simulate delay\n",
    "        time.sleep(poll_interval)\n",
    "        "
   ]
  },
  {
   "cell_type": "code",
   "execution_count": null,
   "id": "36ec4ae6",
   "metadata": {},
   "outputs": [],
   "source": []
  }
 ],
 "metadata": {
  "kernelspec": {
   "display_name": "Python 3 (ipykernel)",
   "language": "python",
   "name": "python3"
  },
  "language_info": {
   "codemirror_mode": {
    "name": "ipython",
    "version": 3
   },
   "file_extension": ".py",
   "mimetype": "text/x-python",
   "name": "python",
   "nbconvert_exporter": "python",
   "pygments_lexer": "ipython3",
   "version": "3.9.7"
  }
 },
 "nbformat": 4,
 "nbformat_minor": 5
}
