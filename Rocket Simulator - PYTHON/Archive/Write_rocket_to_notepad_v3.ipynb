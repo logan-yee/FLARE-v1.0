{
 "cells": [
  {
   "cell_type": "code",
   "execution_count": 1,
   "id": "2a250944",
   "metadata": {},
   "outputs": [],
   "source": [
    "import numpy as np\n",
    "import pandas as pd\n",
    "import time"
   ]
  },
  {
   "cell_type": "code",
   "execution_count": 2,
   "id": "b56c8b6d",
   "metadata": {},
   "outputs": [],
   "source": [
    "source = pd.read_excel(\"12-31-2023_Rocket_Simulated_Data.xlsx\")"
   ]
  },
  {
   "cell_type": "code",
   "execution_count": 3,
   "id": "c518664b",
   "metadata": {},
   "outputs": [],
   "source": [
    "# Stops program once below lower invincibility frame\n",
    "class StopExecution(Exception):\n",
    "    def _render_traceback(self):\n",
    "        return []"
   ]
  },
  {
   "cell_type": "code",
   "execution_count": 6,
   "id": "b49fd838",
   "metadata": {
    "scrolled": true
   },
   "outputs": [
    {
     "name": "stdout",
     "output_type": "stream",
     "text": [
      "Enter upper invincibility altitude: 4000\n",
      "Enter lower invincibility altitude: 1000\n",
      "Enter poll interval in seconds: 2\n",
      "INT\n",
      "INT\n",
      "INT\n",
      "INT\n",
      "INT\n",
      "INT\n",
      "INT\n"
     ]
    },
    {
     "ename": "KeyboardInterrupt",
     "evalue": "",
     "output_type": "error",
     "traceback": [
      "\u001b[1;31m---------------------------------------------------------------------------\u001b[0m",
      "\u001b[1;31mKeyboardInterrupt\u001b[0m                         Traceback (most recent call last)",
      "\u001b[1;32m<ipython-input-6-add9f422d1d9>\u001b[0m in \u001b[0;36m<module>\u001b[1;34m\u001b[0m\n\u001b[0;32m     48\u001b[0m \u001b[1;33m\u001b[0m\u001b[0m\n\u001b[0;32m     49\u001b[0m         \u001b[1;31m# Simulate delay\u001b[0m\u001b[1;33m\u001b[0m\u001b[1;33m\u001b[0m\u001b[1;33m\u001b[0m\u001b[0m\n\u001b[1;32m---> 50\u001b[1;33m         \u001b[0mtime\u001b[0m\u001b[1;33m.\u001b[0m\u001b[0msleep\u001b[0m\u001b[1;33m(\u001b[0m\u001b[0mpoll_interval\u001b[0m\u001b[1;33m)\u001b[0m\u001b[1;33m\u001b[0m\u001b[1;33m\u001b[0m\u001b[0m\n\u001b[0m\u001b[0;32m     51\u001b[0m         \u001b[0mprint\u001b[0m\u001b[1;33m(\u001b[0m\u001b[1;34m\"INT\"\u001b[0m\u001b[1;33m)\u001b[0m\u001b[1;33m\u001b[0m\u001b[1;33m\u001b[0m\u001b[0m\n\u001b[0;32m     52\u001b[0m         \u001b[1;31m# Close file\u001b[0m\u001b[1;33m\u001b[0m\u001b[1;33m\u001b[0m\u001b[1;33m\u001b[0m\u001b[0m\n",
      "\u001b[1;31mKeyboardInterrupt\u001b[0m: "
     ]
    }
   ],
   "source": [
    "i_frame_upper = float(input(\"Enter upper invincibility altitude: \"))\n",
    "i_frame_lower = float(input(\"Enter lower invincibility altitude: \"))\n",
    "poll_interval = float(input(\"Enter poll interval in seconds: \"))\n",
    "in_i_frame_upper = False\n",
    "past_upper = False\n",
    "prev_poll_time = 0\n",
    "\n",
    "# Resets output file\n",
    "with open(\"output.txt\",\"w\") as t:\n",
    "    t.close()\n",
    "\n",
    "\n",
    "for intervals in range(1, 99999999999999999):\n",
    "\n",
    "    # Testing: creates subsets of data to simulate polling intervals\n",
    "    source_sim = source.dropna()\n",
    "    source_sim = source_sim[source_sim['# Time (s)'] <= (poll_interval * intervals)]\n",
    "    # End of testing\n",
    "\n",
    "    # START OF SCRIPT - open file\n",
    "    with open(\"output.txt\", \"a\") as target:\n",
    "        df = source_sim.dropna()\n",
    "        # For testing purposes- log poll time\n",
    "        target.write(f\"POLL AT {poll_interval * (intervals-1)} SECONDS\\n\")\n",
    "\n",
    "\n",
    "        for index, row in df[df['# Time (s)'] > prev_poll_time].iterrows():\n",
    "            # Ship enters upper invincibility altitude, stop recording\n",
    "            if row['Altitude (m)'] >= i_frame_upper and past_upper == False and in_i_frame_upper == False:\n",
    "                target.write(\"ENTERED UPPER INVINCIBILITY ALTITUDE-PAUSING RECORDING\\n\")\n",
    "                in_i_frame_upper = True\n",
    "            # Ship exits upper invincibility altitude, resume recording\n",
    "            elif in_i_frame_upper == True and row['Altitude (m)'] < i_frame_upper:\n",
    "                target.write(\"EXITED UPPER INVINCIBILITY ALTITUDE-RESUMING RECORDING\\n\")\n",
    "                in_i_frame_upper = False\n",
    "                past_upper = True\n",
    "                target.write(f\"{row['# Time (s)']}\\t{row['Altitude (m)']}\\t{row['Position East of launch (m)']}\\t{row['Position North of launch (m)']}\\t{row['Latitude (°)']}\\t{row['Longitude (°)']}\\n\")\n",
    "            # If ship enters lower invincibility altitude after having reached upper invincibility altitude, close file and stop recording\n",
    "            elif past_upper == True and row['Altitude (m)'] <= i_frame_lower:\n",
    "                target.write(\"ENTERED LOWER INVINCIBILITY ALTITUDE-END\\n\")\n",
    "                target.close()\n",
    "                raise StopExecution\n",
    "            elif in_i_frame_upper == False:\n",
    "                target.write(f\"{row['# Time (s)']}\\t{row['Altitude (m)']}\\t{row['Position East of launch (m)']}\\t{row['Position North of launch (m)']}\\t{row['Latitude (°)']}\\t{row['Longitude (°)']}\\n\")\n",
    "\n",
    "\n",
    "        prev_poll_time = df.iloc[-1]['# Time (s)']\n",
    "\n",
    "        # Simulate delay\n",
    "        time.sleep(poll_interval)\n",
    "        print(\"INT\")\n",
    "        # Close file\n",
    "        target.close()\n",
    "        "
   ]
  },
  {
   "cell_type": "code",
   "execution_count": null,
   "id": "3fcdf537",
   "metadata": {},
   "outputs": [],
   "source": []
  }
 ],
 "metadata": {
  "kernelspec": {
   "display_name": "Python 3",
   "language": "python",
   "name": "python3"
  },
  "language_info": {
   "codemirror_mode": {
    "name": "ipython",
    "version": 3
   },
   "file_extension": ".py",
   "mimetype": "text/x-python",
   "name": "python",
   "nbconvert_exporter": "python",
   "pygments_lexer": "ipython3",
   "version": "3.8.3"
  }
 },
 "nbformat": 4,
 "nbformat_minor": 5
}
